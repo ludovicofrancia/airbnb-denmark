{
  "nbformat": 4,
  "nbformat_minor": 0,
  "metadata": {
    "colab": {
      "provenance": []
    },
    "kernelspec": {
      "name": "python3",
      "display_name": "Python 3"
    },
    "language_info": {
      "name": "python"
    }
  },
  "cells": [
    {
      "cell_type": "markdown",
      "source": [
        "## Libraries used for EDA"
      ],
      "metadata": {
        "id": "-LC6rpQv_IdK"
      }
    },
    {
      "cell_type": "code",
      "execution_count": 1,
      "metadata": {
        "id": "8ouU9rJ3z4Wl"
      },
      "outputs": [],
      "source": [
        "import pandas as pd #data manipulation and analysis"
      ]
    },
    {
      "cell_type": "markdown",
      "source": [
        "## Overview of the Dataset"
      ],
      "metadata": {
        "id": "AhseMNN6_Ljk"
      }
    },
    {
      "cell_type": "code",
      "source": [
        "reviews= pd.read_csv('/content/drive/MyDrive/Airbnb/Airbnb_original_data/reviews2024.csv') #Load the dataset\n",
        "reviews.head() #display few rows"
      ],
      "metadata": {
        "colab": {
          "base_uri": "https://localhost:8080/",
          "height": 204
        },
        "id": "MsavM0WGz9if",
        "outputId": "cd195c71-28d0-478c-b93a-7c3dc8478284"
      },
      "execution_count": 2,
      "outputs": [
        {
          "output_type": "execute_result",
          "data": {
            "text/plain": [
              "   listing_id       id        date  reviewer_id reviewer_name  \\\n",
              "0       31094    79346  2010-08-16       171607           Ben   \n",
              "1       31094   166275  2011-01-05       306860        Makita   \n",
              "2       31094  1452299  2012-06-10      1321058        Pierre   \n",
              "3       31094  6766430  2013-08-24      2182771        Sussie   \n",
              "4       31094  6827217  2013-08-26      8025926           Wil   \n",
              "\n",
              "                                            comments  \n",
              "0  We had a great stay. Conveniently located, qui...  \n",
              "1  It was a very good stay. The appartment was re...  \n",
              "2  Really enjoyed my time at Ebbe's place.  It is...  \n",
              "3  The apartment was very well located, 10-15 min...  \n",
              "4  This is a great flat, very clean with everythi...  "
            ],
            "text/html": [
              "\n",
              "  <div id=\"df-6054198d-dec3-461a-8f9f-44a67f45dfe8\" class=\"colab-df-container\">\n",
              "    <div>\n",
              "<style scoped>\n",
              "    .dataframe tbody tr th:only-of-type {\n",
              "        vertical-align: middle;\n",
              "    }\n",
              "\n",
              "    .dataframe tbody tr th {\n",
              "        vertical-align: top;\n",
              "    }\n",
              "\n",
              "    .dataframe thead th {\n",
              "        text-align: right;\n",
              "    }\n",
              "</style>\n",
              "<table border=\"1\" class=\"dataframe\">\n",
              "  <thead>\n",
              "    <tr style=\"text-align: right;\">\n",
              "      <th></th>\n",
              "      <th>listing_id</th>\n",
              "      <th>id</th>\n",
              "      <th>date</th>\n",
              "      <th>reviewer_id</th>\n",
              "      <th>reviewer_name</th>\n",
              "      <th>comments</th>\n",
              "    </tr>\n",
              "  </thead>\n",
              "  <tbody>\n",
              "    <tr>\n",
              "      <th>0</th>\n",
              "      <td>31094</td>\n",
              "      <td>79346</td>\n",
              "      <td>2010-08-16</td>\n",
              "      <td>171607</td>\n",
              "      <td>Ben</td>\n",
              "      <td>We had a great stay. Conveniently located, qui...</td>\n",
              "    </tr>\n",
              "    <tr>\n",
              "      <th>1</th>\n",
              "      <td>31094</td>\n",
              "      <td>166275</td>\n",
              "      <td>2011-01-05</td>\n",
              "      <td>306860</td>\n",
              "      <td>Makita</td>\n",
              "      <td>It was a very good stay. The appartment was re...</td>\n",
              "    </tr>\n",
              "    <tr>\n",
              "      <th>2</th>\n",
              "      <td>31094</td>\n",
              "      <td>1452299</td>\n",
              "      <td>2012-06-10</td>\n",
              "      <td>1321058</td>\n",
              "      <td>Pierre</td>\n",
              "      <td>Really enjoyed my time at Ebbe's place.  It is...</td>\n",
              "    </tr>\n",
              "    <tr>\n",
              "      <th>3</th>\n",
              "      <td>31094</td>\n",
              "      <td>6766430</td>\n",
              "      <td>2013-08-24</td>\n",
              "      <td>2182771</td>\n",
              "      <td>Sussie</td>\n",
              "      <td>The apartment was very well located, 10-15 min...</td>\n",
              "    </tr>\n",
              "    <tr>\n",
              "      <th>4</th>\n",
              "      <td>31094</td>\n",
              "      <td>6827217</td>\n",
              "      <td>2013-08-26</td>\n",
              "      <td>8025926</td>\n",
              "      <td>Wil</td>\n",
              "      <td>This is a great flat, very clean with everythi...</td>\n",
              "    </tr>\n",
              "  </tbody>\n",
              "</table>\n",
              "</div>\n",
              "    <div class=\"colab-df-buttons\">\n",
              "\n",
              "  <div class=\"colab-df-container\">\n",
              "    <button class=\"colab-df-convert\" onclick=\"convertToInteractive('df-6054198d-dec3-461a-8f9f-44a67f45dfe8')\"\n",
              "            title=\"Convert this dataframe to an interactive table.\"\n",
              "            style=\"display:none;\">\n",
              "\n",
              "  <svg xmlns=\"http://www.w3.org/2000/svg\" height=\"24px\" viewBox=\"0 -960 960 960\">\n",
              "    <path d=\"M120-120v-720h720v720H120Zm60-500h600v-160H180v160Zm220 220h160v-160H400v160Zm0 220h160v-160H400v160ZM180-400h160v-160H180v160Zm440 0h160v-160H620v160ZM180-180h160v-160H180v160Zm440 0h160v-160H620v160Z\"/>\n",
              "  </svg>\n",
              "    </button>\n",
              "\n",
              "  <style>\n",
              "    .colab-df-container {\n",
              "      display:flex;\n",
              "      gap: 12px;\n",
              "    }\n",
              "\n",
              "    .colab-df-convert {\n",
              "      background-color: #E8F0FE;\n",
              "      border: none;\n",
              "      border-radius: 50%;\n",
              "      cursor: pointer;\n",
              "      display: none;\n",
              "      fill: #1967D2;\n",
              "      height: 32px;\n",
              "      padding: 0 0 0 0;\n",
              "      width: 32px;\n",
              "    }\n",
              "\n",
              "    .colab-df-convert:hover {\n",
              "      background-color: #E2EBFA;\n",
              "      box-shadow: 0px 1px 2px rgba(60, 64, 67, 0.3), 0px 1px 3px 1px rgba(60, 64, 67, 0.15);\n",
              "      fill: #174EA6;\n",
              "    }\n",
              "\n",
              "    .colab-df-buttons div {\n",
              "      margin-bottom: 4px;\n",
              "    }\n",
              "\n",
              "    [theme=dark] .colab-df-convert {\n",
              "      background-color: #3B4455;\n",
              "      fill: #D2E3FC;\n",
              "    }\n",
              "\n",
              "    [theme=dark] .colab-df-convert:hover {\n",
              "      background-color: #434B5C;\n",
              "      box-shadow: 0px 1px 3px 1px rgba(0, 0, 0, 0.15);\n",
              "      filter: drop-shadow(0px 1px 2px rgba(0, 0, 0, 0.3));\n",
              "      fill: #FFFFFF;\n",
              "    }\n",
              "  </style>\n",
              "\n",
              "    <script>\n",
              "      const buttonEl =\n",
              "        document.querySelector('#df-6054198d-dec3-461a-8f9f-44a67f45dfe8 button.colab-df-convert');\n",
              "      buttonEl.style.display =\n",
              "        google.colab.kernel.accessAllowed ? 'block' : 'none';\n",
              "\n",
              "      async function convertToInteractive(key) {\n",
              "        const element = document.querySelector('#df-6054198d-dec3-461a-8f9f-44a67f45dfe8');\n",
              "        const dataTable =\n",
              "          await google.colab.kernel.invokeFunction('convertToInteractive',\n",
              "                                                    [key], {});\n",
              "        if (!dataTable) return;\n",
              "\n",
              "        const docLinkHtml = 'Like what you see? Visit the ' +\n",
              "          '<a target=\"_blank\" href=https://colab.research.google.com/notebooks/data_table.ipynb>data table notebook</a>'\n",
              "          + ' to learn more about interactive tables.';\n",
              "        element.innerHTML = '';\n",
              "        dataTable['output_type'] = 'display_data';\n",
              "        await google.colab.output.renderOutput(dataTable, element);\n",
              "        const docLink = document.createElement('div');\n",
              "        docLink.innerHTML = docLinkHtml;\n",
              "        element.appendChild(docLink);\n",
              "      }\n",
              "    </script>\n",
              "  </div>\n",
              "\n",
              "\n",
              "<div id=\"df-094401d9-2f2e-4b4c-87f7-2de4bc8844dc\">\n",
              "  <button class=\"colab-df-quickchart\" onclick=\"quickchart('df-094401d9-2f2e-4b4c-87f7-2de4bc8844dc')\"\n",
              "            title=\"Suggest charts\"\n",
              "            style=\"display:none;\">\n",
              "\n",
              "<svg xmlns=\"http://www.w3.org/2000/svg\" height=\"24px\"viewBox=\"0 0 24 24\"\n",
              "     width=\"24px\">\n",
              "    <g>\n",
              "        <path d=\"M19 3H5c-1.1 0-2 .9-2 2v14c0 1.1.9 2 2 2h14c1.1 0 2-.9 2-2V5c0-1.1-.9-2-2-2zM9 17H7v-7h2v7zm4 0h-2V7h2v10zm4 0h-2v-4h2v4z\"/>\n",
              "    </g>\n",
              "</svg>\n",
              "  </button>\n",
              "\n",
              "<style>\n",
              "  .colab-df-quickchart {\n",
              "      --bg-color: #E8F0FE;\n",
              "      --fill-color: #1967D2;\n",
              "      --hover-bg-color: #E2EBFA;\n",
              "      --hover-fill-color: #174EA6;\n",
              "      --disabled-fill-color: #AAA;\n",
              "      --disabled-bg-color: #DDD;\n",
              "  }\n",
              "\n",
              "  [theme=dark] .colab-df-quickchart {\n",
              "      --bg-color: #3B4455;\n",
              "      --fill-color: #D2E3FC;\n",
              "      --hover-bg-color: #434B5C;\n",
              "      --hover-fill-color: #FFFFFF;\n",
              "      --disabled-bg-color: #3B4455;\n",
              "      --disabled-fill-color: #666;\n",
              "  }\n",
              "\n",
              "  .colab-df-quickchart {\n",
              "    background-color: var(--bg-color);\n",
              "    border: none;\n",
              "    border-radius: 50%;\n",
              "    cursor: pointer;\n",
              "    display: none;\n",
              "    fill: var(--fill-color);\n",
              "    height: 32px;\n",
              "    padding: 0;\n",
              "    width: 32px;\n",
              "  }\n",
              "\n",
              "  .colab-df-quickchart:hover {\n",
              "    background-color: var(--hover-bg-color);\n",
              "    box-shadow: 0 1px 2px rgba(60, 64, 67, 0.3), 0 1px 3px 1px rgba(60, 64, 67, 0.15);\n",
              "    fill: var(--button-hover-fill-color);\n",
              "  }\n",
              "\n",
              "  .colab-df-quickchart-complete:disabled,\n",
              "  .colab-df-quickchart-complete:disabled:hover {\n",
              "    background-color: var(--disabled-bg-color);\n",
              "    fill: var(--disabled-fill-color);\n",
              "    box-shadow: none;\n",
              "  }\n",
              "\n",
              "  .colab-df-spinner {\n",
              "    border: 2px solid var(--fill-color);\n",
              "    border-color: transparent;\n",
              "    border-bottom-color: var(--fill-color);\n",
              "    animation:\n",
              "      spin 1s steps(1) infinite;\n",
              "  }\n",
              "\n",
              "  @keyframes spin {\n",
              "    0% {\n",
              "      border-color: transparent;\n",
              "      border-bottom-color: var(--fill-color);\n",
              "      border-left-color: var(--fill-color);\n",
              "    }\n",
              "    20% {\n",
              "      border-color: transparent;\n",
              "      border-left-color: var(--fill-color);\n",
              "      border-top-color: var(--fill-color);\n",
              "    }\n",
              "    30% {\n",
              "      border-color: transparent;\n",
              "      border-left-color: var(--fill-color);\n",
              "      border-top-color: var(--fill-color);\n",
              "      border-right-color: var(--fill-color);\n",
              "    }\n",
              "    40% {\n",
              "      border-color: transparent;\n",
              "      border-right-color: var(--fill-color);\n",
              "      border-top-color: var(--fill-color);\n",
              "    }\n",
              "    60% {\n",
              "      border-color: transparent;\n",
              "      border-right-color: var(--fill-color);\n",
              "    }\n",
              "    80% {\n",
              "      border-color: transparent;\n",
              "      border-right-color: var(--fill-color);\n",
              "      border-bottom-color: var(--fill-color);\n",
              "    }\n",
              "    90% {\n",
              "      border-color: transparent;\n",
              "      border-bottom-color: var(--fill-color);\n",
              "    }\n",
              "  }\n",
              "</style>\n",
              "\n",
              "  <script>\n",
              "    async function quickchart(key) {\n",
              "      const quickchartButtonEl =\n",
              "        document.querySelector('#' + key + ' button');\n",
              "      quickchartButtonEl.disabled = true;  // To prevent multiple clicks.\n",
              "      quickchartButtonEl.classList.add('colab-df-spinner');\n",
              "      try {\n",
              "        const charts = await google.colab.kernel.invokeFunction(\n",
              "            'suggestCharts', [key], {});\n",
              "      } catch (error) {\n",
              "        console.error('Error during call to suggestCharts:', error);\n",
              "      }\n",
              "      quickchartButtonEl.classList.remove('colab-df-spinner');\n",
              "      quickchartButtonEl.classList.add('colab-df-quickchart-complete');\n",
              "    }\n",
              "    (() => {\n",
              "      let quickchartButtonEl =\n",
              "        document.querySelector('#df-094401d9-2f2e-4b4c-87f7-2de4bc8844dc button');\n",
              "      quickchartButtonEl.style.display =\n",
              "        google.colab.kernel.accessAllowed ? 'block' : 'none';\n",
              "    })();\n",
              "  </script>\n",
              "</div>\n",
              "\n",
              "    </div>\n",
              "  </div>\n"
            ],
            "application/vnd.google.colaboratory.intrinsic+json": {
              "type": "dataframe",
              "variable_name": "reviews"
            }
          },
          "metadata": {},
          "execution_count": 2
        }
      ]
    },
    {
      "cell_type": "code",
      "source": [
        "print(reviews.info()) #Understand the structure of the dataset: its dimensions, columns and data types"
      ],
      "metadata": {
        "colab": {
          "base_uri": "https://localhost:8080/"
        },
        "id": "GcJRagOj0dOU",
        "outputId": "5e139b0a-92c3-4453-fe6e-dea4eb16a306"
      },
      "execution_count": 3,
      "outputs": [
        {
          "output_type": "stream",
          "name": "stdout",
          "text": [
            "<class 'pandas.core.frame.DataFrame'>\n",
            "RangeIndex: 366636 entries, 0 to 366635\n",
            "Data columns (total 6 columns):\n",
            " #   Column         Non-Null Count   Dtype \n",
            "---  ------         --------------   ----- \n",
            " 0   listing_id     366636 non-null  int64 \n",
            " 1   id             366636 non-null  int64 \n",
            " 2   date           366636 non-null  object\n",
            " 3   reviewer_id    366636 non-null  int64 \n",
            " 4   reviewer_name  366636 non-null  object\n",
            " 5   comments       366619 non-null  object\n",
            "dtypes: int64(3), object(3)\n",
            "memory usage: 16.8+ MB\n",
            "None\n"
          ]
        }
      ]
    },
    {
      "cell_type": "markdown",
      "source": [
        "## Data Type Adjustment"
      ],
      "metadata": {
        "id": "O6XnCZlY_2kb"
      }
    },
    {
      "cell_type": "code",
      "source": [
        "reviews['date'] = pd.to_datetime(reviews['date']) #'date' column to datetime format"
      ],
      "metadata": {
        "id": "IcqTd9lm1JX6"
      },
      "execution_count": 4,
      "outputs": []
    },
    {
      "cell_type": "markdown",
      "source": [
        "## Handling Missing Values"
      ],
      "metadata": {
        "id": "PsC8eafuAFHA"
      }
    },
    {
      "cell_type": "code",
      "source": [
        "print(reviews.isnull().sum()) #checking for missing values"
      ],
      "metadata": {
        "colab": {
          "base_uri": "https://localhost:8080/"
        },
        "id": "cJ1Wsd9D1eHy",
        "outputId": "84040908-74ac-41ee-c983-443ebe88fa4a"
      },
      "execution_count": 5,
      "outputs": [
        {
          "output_type": "stream",
          "name": "stdout",
          "text": [
            "listing_id        0\n",
            "id                0\n",
            "date              0\n",
            "reviewer_id       0\n",
            "reviewer_name     0\n",
            "comments         17\n",
            "dtype: int64\n"
          ]
        }
      ]
    },
    {
      "cell_type": "code",
      "source": [
        "reviews = reviews.dropna(subset=['comments']) #drop rows with missing values in the 'comments' column"
      ],
      "metadata": {
        "id": "YuS3BRw41mH8"
      },
      "execution_count": 6,
      "outputs": []
    },
    {
      "cell_type": "code",
      "source": [
        "print(reviews.isnull().sum()) #checking that everything is ok"
      ],
      "metadata": {
        "colab": {
          "base_uri": "https://localhost:8080/"
        },
        "id": "_MjRE6NZ2XKv",
        "outputId": "eb4ee3bf-9bf8-40b1-8310-b16d0cdab6b1"
      },
      "execution_count": 7,
      "outputs": [
        {
          "output_type": "stream",
          "name": "stdout",
          "text": [
            "listing_id       0\n",
            "id               0\n",
            "date             0\n",
            "reviewer_id      0\n",
            "reviewer_name    0\n",
            "comments         0\n",
            "dtype: int64\n"
          ]
        }
      ]
    },
    {
      "cell_type": "markdown",
      "source": [
        "## Exploring Variables"
      ],
      "metadata": {
        "id": "XmSLJm7wBTcd"
      }
    },
    {
      "cell_type": "code",
      "source": [
        "# Understand the date range in the dataset\n",
        "min_date = reviews['date'].min()\n",
        "max_date = reviews['date'].max()\n",
        "print(f\"Minimum Date: {min_date}\")\n",
        "print(f\"Maximum Date: {max_date}\")"
      ],
      "metadata": {
        "colab": {
          "base_uri": "https://localhost:8080/"
        },
        "id": "cYm8Q3lhQbwM",
        "outputId": "a6c5d398-2d72-4af2-84c8-fcf43451de22"
      },
      "execution_count": 8,
      "outputs": [
        {
          "output_type": "stream",
          "name": "stdout",
          "text": [
            "Minimum Date: 2010-07-25 00:00:00\n",
            "Maximum Date: 2024-06-29 00:00:00\n"
          ]
        }
      ]
    },
    {
      "cell_type": "code",
      "source": [
        "# Is the number of reviews equal to the number of distinct values of id?\n",
        "unique_count = reviews['id'].nunique()\n",
        "unique_count"
      ],
      "metadata": {
        "id": "L4OaGx8wTTBh",
        "outputId": "34b3de94-ddcc-4ea9-d881-78b1e7102bb5",
        "colab": {
          "base_uri": "https://localhost:8080/"
        }
      },
      "execution_count": 9,
      "outputs": [
        {
          "output_type": "execute_result",
          "data": {
            "text/plain": [
              "366619"
            ]
          },
          "metadata": {},
          "execution_count": 9
        }
      ]
    },
    {
      "cell_type": "code",
      "source": [
        "# Corrections to strings\n",
        "reviews['comments'] = reviews['comments'].str.replace(r'<br\\s*/?>', ' ', regex=True)\n",
        "reviews['comments'] = reviews['comments'].apply(\n",
        "    lambda x: f'\"{x}\"' if not (x.startswith('\"') and x.endswith('\"')) else x\n",
        ")\n",
        "reviews['comments'] = reviews['comments'].str.replace('\"\"\"', '\"', regex=False)\n",
        "reviews['comments'] = reviews['comments'].str.replace('\"\"', '\"', regex=False)\n",
        "reviews['comments'] = reviews['comments'].str.replace(\"'\", \"\", regex=False)\n",
        "reviews['comments'] = reviews['comments'].str.replace(r'\\s+', ' ', regex=True)"
      ],
      "metadata": {
        "id": "7Vm1mp-3QMSa"
      },
      "execution_count": 10,
      "outputs": []
    },
    {
      "cell_type": "code",
      "source": [
        "reviews.to_csv('/content/drive/MyDrive/Airbnb/Airbnb_cleaned_csvs/reviews_cleaned.csv', index=False)"
      ],
      "metadata": {
        "id": "yssUn5tAQvXz"
      },
      "execution_count": 11,
      "outputs": []
    },
    {
      "cell_type": "code",
      "source": [],
      "metadata": {
        "id": "lp-qXkIZZe2L"
      },
      "execution_count": 11,
      "outputs": []
    }
  ]
}