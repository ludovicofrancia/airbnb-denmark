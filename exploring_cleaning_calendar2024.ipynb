{
  "nbformat": 4,
  "nbformat_minor": 0,
  "metadata": {
    "colab": {
      "provenance": []
    },
    "kernelspec": {
      "name": "python3",
      "display_name": "Python 3"
    },
    "language_info": {
      "name": "python"
    }
  },
  "cells": [
    {
      "cell_type": "markdown",
      "source": [
        "## Libraries used for EDA"
      ],
      "metadata": {
        "id": "-LC6rpQv_IdK"
      }
    },
    {
      "cell_type": "code",
      "execution_count": 1,
      "metadata": {
        "id": "8ouU9rJ3z4Wl"
      },
      "outputs": [],
      "source": [
        "import pandas as pd #data manipulation and analysis\n",
        "import matplotlib.pyplot as plt #visualizations"
      ]
    },
    {
      "cell_type": "markdown",
      "source": [
        "## Overview of the Dataset"
      ],
      "metadata": {
        "id": "AhseMNN6_Ljk"
      }
    },
    {
      "cell_type": "code",
      "source": [
        "calendar= pd.read_csv('/content/drive/MyDrive/Airbnb/Airbnb_original_data/calendar2024.csv') #Load the dataset\n",
        "calendar.head() #Display few rows"
      ],
      "metadata": {
        "colab": {
          "base_uri": "https://localhost:8080/",
          "height": 204
        },
        "id": "MsavM0WGz9if",
        "outputId": "910b0568-3435-457f-977a-fbaa260791ff"
      },
      "execution_count": 2,
      "outputs": [
        {
          "output_type": "execute_result",
          "data": {
            "text/plain": [
              "   listing_id        date available    price  adjusted_price  minimum_nights  \\\n",
              "0      586421  2024-06-30         f  $250.00             NaN             4.0   \n",
              "1      586421  2024-07-01         f  $250.00             NaN             4.0   \n",
              "2      586421  2024-07-02         t  $250.00             NaN             4.0   \n",
              "3      586421  2024-07-03         f  $250.00             NaN             4.0   \n",
              "4      586421  2024-07-04         f  $250.00             NaN             4.0   \n",
              "\n",
              "   maximum_nights  \n",
              "0            31.0  \n",
              "1            31.0  \n",
              "2            31.0  \n",
              "3            31.0  \n",
              "4            31.0  "
            ],
            "text/html": [
              "\n",
              "  <div id=\"df-af6d361d-142f-45ab-9a9f-c4a97d709cff\" class=\"colab-df-container\">\n",
              "    <div>\n",
              "<style scoped>\n",
              "    .dataframe tbody tr th:only-of-type {\n",
              "        vertical-align: middle;\n",
              "    }\n",
              "\n",
              "    .dataframe tbody tr th {\n",
              "        vertical-align: top;\n",
              "    }\n",
              "\n",
              "    .dataframe thead th {\n",
              "        text-align: right;\n",
              "    }\n",
              "</style>\n",
              "<table border=\"1\" class=\"dataframe\">\n",
              "  <thead>\n",
              "    <tr style=\"text-align: right;\">\n",
              "      <th></th>\n",
              "      <th>listing_id</th>\n",
              "      <th>date</th>\n",
              "      <th>available</th>\n",
              "      <th>price</th>\n",
              "      <th>adjusted_price</th>\n",
              "      <th>minimum_nights</th>\n",
              "      <th>maximum_nights</th>\n",
              "    </tr>\n",
              "  </thead>\n",
              "  <tbody>\n",
              "    <tr>\n",
              "      <th>0</th>\n",
              "      <td>586421</td>\n",
              "      <td>2024-06-30</td>\n",
              "      <td>f</td>\n",
              "      <td>$250.00</td>\n",
              "      <td>NaN</td>\n",
              "      <td>4.0</td>\n",
              "      <td>31.0</td>\n",
              "    </tr>\n",
              "    <tr>\n",
              "      <th>1</th>\n",
              "      <td>586421</td>\n",
              "      <td>2024-07-01</td>\n",
              "      <td>f</td>\n",
              "      <td>$250.00</td>\n",
              "      <td>NaN</td>\n",
              "      <td>4.0</td>\n",
              "      <td>31.0</td>\n",
              "    </tr>\n",
              "    <tr>\n",
              "      <th>2</th>\n",
              "      <td>586421</td>\n",
              "      <td>2024-07-02</td>\n",
              "      <td>t</td>\n",
              "      <td>$250.00</td>\n",
              "      <td>NaN</td>\n",
              "      <td>4.0</td>\n",
              "      <td>31.0</td>\n",
              "    </tr>\n",
              "    <tr>\n",
              "      <th>3</th>\n",
              "      <td>586421</td>\n",
              "      <td>2024-07-03</td>\n",
              "      <td>f</td>\n",
              "      <td>$250.00</td>\n",
              "      <td>NaN</td>\n",
              "      <td>4.0</td>\n",
              "      <td>31.0</td>\n",
              "    </tr>\n",
              "    <tr>\n",
              "      <th>4</th>\n",
              "      <td>586421</td>\n",
              "      <td>2024-07-04</td>\n",
              "      <td>f</td>\n",
              "      <td>$250.00</td>\n",
              "      <td>NaN</td>\n",
              "      <td>4.0</td>\n",
              "      <td>31.0</td>\n",
              "    </tr>\n",
              "  </tbody>\n",
              "</table>\n",
              "</div>\n",
              "    <div class=\"colab-df-buttons\">\n",
              "\n",
              "  <div class=\"colab-df-container\">\n",
              "    <button class=\"colab-df-convert\" onclick=\"convertToInteractive('df-af6d361d-142f-45ab-9a9f-c4a97d709cff')\"\n",
              "            title=\"Convert this dataframe to an interactive table.\"\n",
              "            style=\"display:none;\">\n",
              "\n",
              "  <svg xmlns=\"http://www.w3.org/2000/svg\" height=\"24px\" viewBox=\"0 -960 960 960\">\n",
              "    <path d=\"M120-120v-720h720v720H120Zm60-500h600v-160H180v160Zm220 220h160v-160H400v160Zm0 220h160v-160H400v160ZM180-400h160v-160H180v160Zm440 0h160v-160H620v160ZM180-180h160v-160H180v160Zm440 0h160v-160H620v160Z\"/>\n",
              "  </svg>\n",
              "    </button>\n",
              "\n",
              "  <style>\n",
              "    .colab-df-container {\n",
              "      display:flex;\n",
              "      gap: 12px;\n",
              "    }\n",
              "\n",
              "    .colab-df-convert {\n",
              "      background-color: #E8F0FE;\n",
              "      border: none;\n",
              "      border-radius: 50%;\n",
              "      cursor: pointer;\n",
              "      display: none;\n",
              "      fill: #1967D2;\n",
              "      height: 32px;\n",
              "      padding: 0 0 0 0;\n",
              "      width: 32px;\n",
              "    }\n",
              "\n",
              "    .colab-df-convert:hover {\n",
              "      background-color: #E2EBFA;\n",
              "      box-shadow: 0px 1px 2px rgba(60, 64, 67, 0.3), 0px 1px 3px 1px rgba(60, 64, 67, 0.15);\n",
              "      fill: #174EA6;\n",
              "    }\n",
              "\n",
              "    .colab-df-buttons div {\n",
              "      margin-bottom: 4px;\n",
              "    }\n",
              "\n",
              "    [theme=dark] .colab-df-convert {\n",
              "      background-color: #3B4455;\n",
              "      fill: #D2E3FC;\n",
              "    }\n",
              "\n",
              "    [theme=dark] .colab-df-convert:hover {\n",
              "      background-color: #434B5C;\n",
              "      box-shadow: 0px 1px 3px 1px rgba(0, 0, 0, 0.15);\n",
              "      filter: drop-shadow(0px 1px 2px rgba(0, 0, 0, 0.3));\n",
              "      fill: #FFFFFF;\n",
              "    }\n",
              "  </style>\n",
              "\n",
              "    <script>\n",
              "      const buttonEl =\n",
              "        document.querySelector('#df-af6d361d-142f-45ab-9a9f-c4a97d709cff button.colab-df-convert');\n",
              "      buttonEl.style.display =\n",
              "        google.colab.kernel.accessAllowed ? 'block' : 'none';\n",
              "\n",
              "      async function convertToInteractive(key) {\n",
              "        const element = document.querySelector('#df-af6d361d-142f-45ab-9a9f-c4a97d709cff');\n",
              "        const dataTable =\n",
              "          await google.colab.kernel.invokeFunction('convertToInteractive',\n",
              "                                                    [key], {});\n",
              "        if (!dataTable) return;\n",
              "\n",
              "        const docLinkHtml = 'Like what you see? Visit the ' +\n",
              "          '<a target=\"_blank\" href=https://colab.research.google.com/notebooks/data_table.ipynb>data table notebook</a>'\n",
              "          + ' to learn more about interactive tables.';\n",
              "        element.innerHTML = '';\n",
              "        dataTable['output_type'] = 'display_data';\n",
              "        await google.colab.output.renderOutput(dataTable, element);\n",
              "        const docLink = document.createElement('div');\n",
              "        docLink.innerHTML = docLinkHtml;\n",
              "        element.appendChild(docLink);\n",
              "      }\n",
              "    </script>\n",
              "  </div>\n",
              "\n",
              "\n",
              "<div id=\"df-076b1a31-25e3-4651-9b46-e9034e4aedb3\">\n",
              "  <button class=\"colab-df-quickchart\" onclick=\"quickchart('df-076b1a31-25e3-4651-9b46-e9034e4aedb3')\"\n",
              "            title=\"Suggest charts\"\n",
              "            style=\"display:none;\">\n",
              "\n",
              "<svg xmlns=\"http://www.w3.org/2000/svg\" height=\"24px\"viewBox=\"0 0 24 24\"\n",
              "     width=\"24px\">\n",
              "    <g>\n",
              "        <path d=\"M19 3H5c-1.1 0-2 .9-2 2v14c0 1.1.9 2 2 2h14c1.1 0 2-.9 2-2V5c0-1.1-.9-2-2-2zM9 17H7v-7h2v7zm4 0h-2V7h2v10zm4 0h-2v-4h2v4z\"/>\n",
              "    </g>\n",
              "</svg>\n",
              "  </button>\n",
              "\n",
              "<style>\n",
              "  .colab-df-quickchart {\n",
              "      --bg-color: #E8F0FE;\n",
              "      --fill-color: #1967D2;\n",
              "      --hover-bg-color: #E2EBFA;\n",
              "      --hover-fill-color: #174EA6;\n",
              "      --disabled-fill-color: #AAA;\n",
              "      --disabled-bg-color: #DDD;\n",
              "  }\n",
              "\n",
              "  [theme=dark] .colab-df-quickchart {\n",
              "      --bg-color: #3B4455;\n",
              "      --fill-color: #D2E3FC;\n",
              "      --hover-bg-color: #434B5C;\n",
              "      --hover-fill-color: #FFFFFF;\n",
              "      --disabled-bg-color: #3B4455;\n",
              "      --disabled-fill-color: #666;\n",
              "  }\n",
              "\n",
              "  .colab-df-quickchart {\n",
              "    background-color: var(--bg-color);\n",
              "    border: none;\n",
              "    border-radius: 50%;\n",
              "    cursor: pointer;\n",
              "    display: none;\n",
              "    fill: var(--fill-color);\n",
              "    height: 32px;\n",
              "    padding: 0;\n",
              "    width: 32px;\n",
              "  }\n",
              "\n",
              "  .colab-df-quickchart:hover {\n",
              "    background-color: var(--hover-bg-color);\n",
              "    box-shadow: 0 1px 2px rgba(60, 64, 67, 0.3), 0 1px 3px 1px rgba(60, 64, 67, 0.15);\n",
              "    fill: var(--button-hover-fill-color);\n",
              "  }\n",
              "\n",
              "  .colab-df-quickchart-complete:disabled,\n",
              "  .colab-df-quickchart-complete:disabled:hover {\n",
              "    background-color: var(--disabled-bg-color);\n",
              "    fill: var(--disabled-fill-color);\n",
              "    box-shadow: none;\n",
              "  }\n",
              "\n",
              "  .colab-df-spinner {\n",
              "    border: 2px solid var(--fill-color);\n",
              "    border-color: transparent;\n",
              "    border-bottom-color: var(--fill-color);\n",
              "    animation:\n",
              "      spin 1s steps(1) infinite;\n",
              "  }\n",
              "\n",
              "  @keyframes spin {\n",
              "    0% {\n",
              "      border-color: transparent;\n",
              "      border-bottom-color: var(--fill-color);\n",
              "      border-left-color: var(--fill-color);\n",
              "    }\n",
              "    20% {\n",
              "      border-color: transparent;\n",
              "      border-left-color: var(--fill-color);\n",
              "      border-top-color: var(--fill-color);\n",
              "    }\n",
              "    30% {\n",
              "      border-color: transparent;\n",
              "      border-left-color: var(--fill-color);\n",
              "      border-top-color: var(--fill-color);\n",
              "      border-right-color: var(--fill-color);\n",
              "    }\n",
              "    40% {\n",
              "      border-color: transparent;\n",
              "      border-right-color: var(--fill-color);\n",
              "      border-top-color: var(--fill-color);\n",
              "    }\n",
              "    60% {\n",
              "      border-color: transparent;\n",
              "      border-right-color: var(--fill-color);\n",
              "    }\n",
              "    80% {\n",
              "      border-color: transparent;\n",
              "      border-right-color: var(--fill-color);\n",
              "      border-bottom-color: var(--fill-color);\n",
              "    }\n",
              "    90% {\n",
              "      border-color: transparent;\n",
              "      border-bottom-color: var(--fill-color);\n",
              "    }\n",
              "  }\n",
              "</style>\n",
              "\n",
              "  <script>\n",
              "    async function quickchart(key) {\n",
              "      const quickchartButtonEl =\n",
              "        document.querySelector('#' + key + ' button');\n",
              "      quickchartButtonEl.disabled = true;  // To prevent multiple clicks.\n",
              "      quickchartButtonEl.classList.add('colab-df-spinner');\n",
              "      try {\n",
              "        const charts = await google.colab.kernel.invokeFunction(\n",
              "            'suggestCharts', [key], {});\n",
              "      } catch (error) {\n",
              "        console.error('Error during call to suggestCharts:', error);\n",
              "      }\n",
              "      quickchartButtonEl.classList.remove('colab-df-spinner');\n",
              "      quickchartButtonEl.classList.add('colab-df-quickchart-complete');\n",
              "    }\n",
              "    (() => {\n",
              "      let quickchartButtonEl =\n",
              "        document.querySelector('#df-076b1a31-25e3-4651-9b46-e9034e4aedb3 button');\n",
              "      quickchartButtonEl.style.display =\n",
              "        google.colab.kernel.accessAllowed ? 'block' : 'none';\n",
              "    })();\n",
              "  </script>\n",
              "</div>\n",
              "\n",
              "    </div>\n",
              "  </div>\n"
            ],
            "application/vnd.google.colaboratory.intrinsic+json": {
              "type": "dataframe",
              "variable_name": "calendar"
            }
          },
          "metadata": {},
          "execution_count": 2
        }
      ]
    },
    {
      "cell_type": "code",
      "source": [
        "print(calendar.shape) #Understand the dimension of the dataset"
      ],
      "metadata": {
        "colab": {
          "base_uri": "https://localhost:8080/"
        },
        "id": "1eyQmGSd0ZjH",
        "outputId": "d59d35d7-9324-4fb9-e14e-97a4d087dbc4"
      },
      "execution_count": 3,
      "outputs": [
        {
          "output_type": "stream",
          "name": "stdout",
          "text": [
            "(7631731, 7)\n"
          ]
        }
      ]
    },
    {
      "cell_type": "code",
      "source": [
        "print(calendar.info()) #Understand the structure of the dataset: its dimensions, columns and data types"
      ],
      "metadata": {
        "colab": {
          "base_uri": "https://localhost:8080/"
        },
        "id": "GcJRagOj0dOU",
        "outputId": "74a35703-cf79-4e6e-e663-90db71b2a3b4"
      },
      "execution_count": 4,
      "outputs": [
        {
          "output_type": "stream",
          "name": "stdout",
          "text": [
            "<class 'pandas.core.frame.DataFrame'>\n",
            "RangeIndex: 7631731 entries, 0 to 7631730\n",
            "Data columns (total 7 columns):\n",
            " #   Column          Dtype  \n",
            "---  ------          -----  \n",
            " 0   listing_id      int64  \n",
            " 1   date            object \n",
            " 2   available       object \n",
            " 3   price           object \n",
            " 4   adjusted_price  float64\n",
            " 5   minimum_nights  float64\n",
            " 6   maximum_nights  float64\n",
            "dtypes: float64(3), int64(1), object(3)\n",
            "memory usage: 407.6+ MB\n",
            "None\n"
          ]
        }
      ]
    },
    {
      "cell_type": "markdown",
      "source": [
        "## Handling Missing Values"
      ],
      "metadata": {
        "id": "PsC8eafuAFHA"
      }
    },
    {
      "cell_type": "code",
      "source": [
        "print(calendar.isnull().sum()) #checking for missing values"
      ],
      "metadata": {
        "colab": {
          "base_uri": "https://localhost:8080/"
        },
        "id": "cJ1Wsd9D1eHy",
        "outputId": "e2287d6f-2ff7-4323-ff44-26f80232afbb"
      },
      "execution_count": 5,
      "outputs": [
        {
          "output_type": "stream",
          "name": "stdout",
          "text": [
            "listing_id              0\n",
            "date                    0\n",
            "available               0\n",
            "price                   0\n",
            "adjusted_price    7631731\n",
            "minimum_nights          1\n",
            "maximum_nights          1\n",
            "dtype: int64\n"
          ]
        }
      ]
    },
    {
      "cell_type": "code",
      "source": [
        "calendar.drop('adjusted_price', axis=1, inplace=True) #drop 'adjusted_price', it only contains missing values"
      ],
      "metadata": {
        "id": "YuS3BRw41mH8"
      },
      "execution_count": 6,
      "outputs": []
    },
    {
      "cell_type": "code",
      "source": [
        "missing_rows = calendar[calendar['minimum_nights'].isna() | calendar['maximum_nights'].isna()] #understand where 'minimum_nights' and 'maximum_nights' are missing\n",
        "print(missing_rows)"
      ],
      "metadata": {
        "colab": {
          "base_uri": "https://localhost:8080/"
        },
        "id": "gR5yMMN81zms",
        "outputId": "0caa7d71-6fe4-4395-d023-56dc3c870561"
      },
      "execution_count": 7,
      "outputs": [
        {
          "output_type": "stream",
          "name": "stdout",
          "text": [
            "         listing_id        date available      price  minimum_nights  \\\n",
            "1294655    26895700  2024-06-29         f  $2,200.00             NaN   \n",
            "\n",
            "         maximum_nights  \n",
            "1294655             NaN  \n"
          ]
        }
      ]
    },
    {
      "cell_type": "code",
      "source": [
        "listing_26895700 = calendar[calendar['listing_id'] == 26895700] #'minimum_nights' and 'maximum_nights' in other dates for listing_id= 26895700\n",
        "print(listing_26895700)"
      ],
      "metadata": {
        "colab": {
          "base_uri": "https://localhost:8080/"
        },
        "id": "EBxjbJX410XG",
        "outputId": "a938bb83-917e-4860-a081-58974b76b753"
      },
      "execution_count": 8,
      "outputs": [
        {
          "output_type": "stream",
          "name": "stdout",
          "text": [
            "         listing_id        date available      price  minimum_nights  \\\n",
            "1294655    26895700  2024-06-29         f  $2,200.00             NaN   \n",
            "1294656    26895700  2024-06-30         f  $2,200.00             3.0   \n",
            "1294657    26895700  2024-07-01         f  $2,200.00             3.0   \n",
            "1294658    26895700  2024-07-02         f  $2,200.00             3.0   \n",
            "1294659    26895700  2024-07-03         f  $2,200.00             3.0   \n",
            "...             ...         ...       ...        ...             ...   \n",
            "1295015    26895700  2025-06-24         t  $2,200.00             3.0   \n",
            "1295016    26895700  2025-06-25         t  $2,200.00             3.0   \n",
            "1295017    26895700  2025-06-26         t  $2,200.00             3.0   \n",
            "1295018    26895700  2025-06-27         t  $2,200.00             3.0   \n",
            "1295019    26895700  2025-06-28         t  $2,200.00             3.0   \n",
            "\n",
            "         maximum_nights  \n",
            "1294655             NaN  \n",
            "1294656          1125.0  \n",
            "1294657          1125.0  \n",
            "1294658          1125.0  \n",
            "1294659          1125.0  \n",
            "...                 ...  \n",
            "1295015          1125.0  \n",
            "1295016          1125.0  \n",
            "1295017          1125.0  \n",
            "1295018          1125.0  \n",
            "1295019          1125.0  \n",
            "\n",
            "[365 rows x 6 columns]\n"
          ]
        }
      ]
    },
    {
      "cell_type": "code",
      "source": [
        "calendar.loc[(calendar['listing_id'] == 26895700) & (calendar['date'] == '2024-06-29'), 'minimum_nights'] = 3 #change missing 'minimum_nights' with 3 (next day value)\n",
        "calendar.loc[(calendar['listing_id'] == 26895700) & (calendar['date'] == '2024-06-29'), 'maximum_nights'] = 1125 #change missing 'maximum_nights' with 1125 (next day value)"
      ],
      "metadata": {
        "id": "UkFC9I-C2GwM"
      },
      "execution_count": 9,
      "outputs": []
    },
    {
      "cell_type": "code",
      "source": [
        "print(calendar.isnull().sum()) #checking that everything is ok"
      ],
      "metadata": {
        "colab": {
          "base_uri": "https://localhost:8080/"
        },
        "id": "_MjRE6NZ2XKv",
        "outputId": "4dd2e40c-212a-4f75-ef84-c2a2efac6b75"
      },
      "execution_count": 10,
      "outputs": [
        {
          "output_type": "stream",
          "name": "stdout",
          "text": [
            "listing_id        0\n",
            "date              0\n",
            "available         0\n",
            "price             0\n",
            "minimum_nights    0\n",
            "maximum_nights    0\n",
            "dtype: int64\n"
          ]
        }
      ]
    },
    {
      "cell_type": "markdown",
      "source": [
        "## Data Type Adjustment"
      ],
      "metadata": {
        "id": "O6XnCZlY_2kb"
      }
    },
    {
      "cell_type": "code",
      "source": [
        "calendar['date'] = pd.to_datetime(calendar['date']) #'date' column to datetime format\n",
        "calendar['available'] = calendar['available'].map({'t': True, 'f': False}) #from 't' and 'f' to boolean (True/False)\n",
        "calendar['price'] = calendar['price'].str.replace(r'[$,]', '', regex=True).astype(float) #removing dollar signs and commas and converting it to float\n",
        "calendar['minimum_nights'] = calendar['minimum_nights'].astype(int) #converting to integer\n",
        "calendar['maximum_nights'] = calendar['maximum_nights'].astype(int) #converting to integer"
      ],
      "metadata": {
        "id": "IcqTd9lm1JX6"
      },
      "execution_count": 11,
      "outputs": []
    },
    {
      "cell_type": "markdown",
      "source": [
        "## Handling duplicates"
      ],
      "metadata": {
        "id": "e67FN9ycBDTK"
      }
    },
    {
      "cell_type": "code",
      "source": [
        "duplicates = calendar.groupby(['date', 'listing_id']).size().reset_index(name='count')\n",
        "duplicates = duplicates[duplicates['count'] > 1]\n",
        "duplicates.shape #checking for duplicates"
      ],
      "metadata": {
        "colab": {
          "base_uri": "https://localhost:8080/"
        },
        "id": "tMVdWR_v2c1N",
        "outputId": "4a718cc6-f0d1-472c-fb54-8c3fa57c5c06"
      },
      "execution_count": 12,
      "outputs": [
        {
          "output_type": "execute_result",
          "data": {
            "text/plain": [
              "(0, 3)"
            ]
          },
          "metadata": {},
          "execution_count": 12
        }
      ]
    },
    {
      "cell_type": "markdown",
      "source": [
        "## Exploring Individual Variables"
      ],
      "metadata": {
        "id": "XmSLJm7wBTcd"
      }
    },
    {
      "cell_type": "code",
      "source": [
        "# Understand the date range in the dataset\n",
        "min_date = calendar['date'].min()\n",
        "max_date = calendar['date'].max()\n",
        "print(f\"Minimum Date: {min_date}\")\n",
        "print(f\"Maximum Date: {max_date}\")"
      ],
      "metadata": {
        "colab": {
          "base_uri": "https://localhost:8080/"
        },
        "id": "KUqXMIQW2id3",
        "outputId": "78f77d7f-b0a2-44bd-dcde-546d05be052a"
      },
      "execution_count": 13,
      "outputs": [
        {
          "output_type": "stream",
          "name": "stdout",
          "text": [
            "Minimum Date: 2024-06-29 00:00:00\n",
            "Maximum Date: 2025-06-29 00:00:00\n"
          ]
        }
      ]
    },
    {
      "cell_type": "code",
      "source": [
        "# 'available' distinct values\n",
        "available_dvalues = calendar['available'].unique()\n",
        "print(available_dvalues)"
      ],
      "metadata": {
        "colab": {
          "base_uri": "https://localhost:8080/"
        },
        "id": "j5jIq1X22uvB",
        "outputId": "19c67c82-f739-4207-91ce-b163a6667c40"
      },
      "execution_count": 14,
      "outputs": [
        {
          "output_type": "stream",
          "name": "stdout",
          "text": [
            "[False  True]\n"
          ]
        }
      ]
    },
    {
      "cell_type": "code",
      "source": [
        "# 'listing_id' distinct values\n",
        "listingid_dvalues = calendar['listing_id'].unique()\n",
        "print(len(listingid_dvalues))"
      ],
      "metadata": {
        "colab": {
          "base_uri": "https://localhost:8080/"
        },
        "id": "k10KBh86vo0A",
        "outputId": "5496a31d-dd58-4caa-e6fb-0be02f037e45"
      },
      "execution_count": 15,
      "outputs": [
        {
          "output_type": "stream",
          "name": "stdout",
          "text": [
            "20909\n"
          ]
        }
      ]
    },
    {
      "cell_type": "code",
      "source": [
        "# Does all listing_ids have 365 days of data?\n",
        "listings_date_count = calendar.groupby('listing_id')['date'].count()\n",
        "listings_less_than_365 = listings_date_count[listings_date_count < 365]\n",
        "listings_less_than_365 = listings_less_than_365.sort_values(ascending=False)\n",
        "listings_less_than_365"
      ],
      "metadata": {
        "colab": {
          "base_uri": "https://localhost:8080/",
          "height": 176
        },
        "id": "GCasaJbL3AmA",
        "outputId": "98b2c6b0-4321-474c-ce49-7ae43f315008"
      },
      "execution_count": 16,
      "outputs": [
        {
          "output_type": "execute_result",
          "data": {
            "text/plain": [
              "listing_id\n",
              "1167158993163820880    337\n",
              "1166613185844530189    336\n",
              "Name: date, dtype: int64"
            ],
            "text/html": [
              "<div>\n",
              "<style scoped>\n",
              "    .dataframe tbody tr th:only-of-type {\n",
              "        vertical-align: middle;\n",
              "    }\n",
              "\n",
              "    .dataframe tbody tr th {\n",
              "        vertical-align: top;\n",
              "    }\n",
              "\n",
              "    .dataframe thead th {\n",
              "        text-align: right;\n",
              "    }\n",
              "</style>\n",
              "<table border=\"1\" class=\"dataframe\">\n",
              "  <thead>\n",
              "    <tr style=\"text-align: right;\">\n",
              "      <th></th>\n",
              "      <th>date</th>\n",
              "    </tr>\n",
              "    <tr>\n",
              "      <th>listing_id</th>\n",
              "      <th></th>\n",
              "    </tr>\n",
              "  </thead>\n",
              "  <tbody>\n",
              "    <tr>\n",
              "      <th>1167158993163820880</th>\n",
              "      <td>337</td>\n",
              "    </tr>\n",
              "    <tr>\n",
              "      <th>1166613185844530189</th>\n",
              "      <td>336</td>\n",
              "    </tr>\n",
              "  </tbody>\n",
              "</table>\n",
              "</div><br><label><b>dtype:</b> int64</label>"
            ]
          },
          "metadata": {},
          "execution_count": 16
        }
      ]
    },
    {
      "cell_type": "code",
      "source": [
        "# Remove entries with listings that have less then 365 days of data\n",
        "listings_to_remove = listings_less_than_365.index\n",
        "calendar = calendar[~calendar['listing_id'].isin(listings_to_remove)]"
      ],
      "metadata": {
        "id": "2mHCV2N035eg"
      },
      "execution_count": 17,
      "outputs": []
    },
    {
      "cell_type": "code",
      "source": [
        "# What is the distribution of 'price'?\n",
        "print(calendar['price'].describe())"
      ],
      "metadata": {
        "colab": {
          "base_uri": "https://localhost:8080/"
        },
        "id": "w7_m8jJv5-n_",
        "outputId": "5d905d4c-f947-4b34-f352-b5852c43e838"
      },
      "execution_count": 18,
      "outputs": [
        {
          "output_type": "stream",
          "name": "stdout",
          "text": [
            "count    7.631058e+06\n",
            "mean     1.245855e+03\n",
            "std      1.687680e+03\n",
            "min      2.100000e+01\n",
            "25%      7.500000e+02\n",
            "50%      1.000000e+03\n",
            "75%      1.400000e+03\n",
            "max      1.000000e+05\n",
            "Name: price, dtype: float64\n"
          ]
        }
      ]
    },
    {
      "cell_type": "code",
      "source": [
        "# 'price' column is in dkk currency and not us dollars or eur.\n",
        "calendar.rename(columns={'price': 'price_dkk'}, inplace=True)"
      ],
      "metadata": {
        "id": "sYRjwn31C56Z"
      },
      "execution_count": 19,
      "outputs": []
    },
    {
      "cell_type": "code",
      "source": [
        "lower_threshold = 300 #setting minimum price threshold of 300 DKK (~ 40€) to exclude extremely low prices.\n",
        "upper_threshold = 37303 #setting maximum price threshold of 37303 DKK (~ 5000€) to exclude extremely high prices.\n",
        "\n",
        "# setting prices below 'lower_threshold' to 'lower_threshold' and above 'upper_threshold' to 'upper_threshold'.\n",
        "calendar['price_dkk'] = calendar['price_dkk'].clip(lower= lower_threshold, upper= upper_threshold)\n",
        "print(calendar['price_dkk'].describe())\n"
      ],
      "metadata": {
        "colab": {
          "base_uri": "https://localhost:8080/"
        },
        "id": "wYLMaDPv8L3g",
        "outputId": "651948ad-21f2-4bec-c502-7c1ea1818eb5"
      },
      "execution_count": 20,
      "outputs": [
        {
          "output_type": "stream",
          "name": "stdout",
          "text": [
            "count    7.631058e+06\n",
            "mean     1.241103e+03\n",
            "std      1.329003e+03\n",
            "min      3.000000e+02\n",
            "25%      7.500000e+02\n",
            "50%      1.000000e+03\n",
            "75%      1.400000e+03\n",
            "max      3.730300e+04\n",
            "Name: price_dkk, dtype: float64\n"
          ]
        }
      ]
    },
    {
      "cell_type": "code",
      "source": [
        "# does the price of listings change over time?\n",
        "price_variation = calendar.groupby('listing_id')['price_dkk'].nunique()\n",
        "variable_price_listings = price_variation[price_variation > 1]\n",
        "len(variable_price_listings)"
      ],
      "metadata": {
        "colab": {
          "base_uri": "https://localhost:8080/"
        },
        "id": "jHEv8RvkLhqy",
        "outputId": "8f8271c4-a1a8-48f9-fb47-1a8caac2e7d8"
      },
      "execution_count": 21,
      "outputs": [
        {
          "output_type": "execute_result",
          "data": {
            "text/plain": [
              "0"
            ]
          },
          "metadata": {},
          "execution_count": 21
        }
      ]
    },
    {
      "cell_type": "code",
      "source": [
        "# does the minimum_nights of listings change over time?\n",
        "minimum_nights_variation = calendar.groupby('listing_id')['minimum_nights'].nunique()\n",
        "variable_minimum_nights_listings = minimum_nights_variation[minimum_nights_variation > 1]\n",
        "len(variable_minimum_nights_listings)"
      ],
      "metadata": {
        "colab": {
          "base_uri": "https://localhost:8080/"
        },
        "id": "wJUn0U-nLouG",
        "outputId": "cde87568-4739-4413-a5ea-36d7ff87882f"
      },
      "execution_count": 22,
      "outputs": [
        {
          "output_type": "execute_result",
          "data": {
            "text/plain": [
              "5030"
            ]
          },
          "metadata": {},
          "execution_count": 22
        }
      ]
    },
    {
      "cell_type": "code",
      "source": [
        "# does the maximum_nights of listings change over time?\n",
        "maximum_nights_variation = calendar.groupby('listing_id')['maximum_nights'].nunique()\n",
        "variable_maximum_nights_listings = maximum_nights_variation[maximum_nights_variation > 1]\n",
        "len(variable_maximum_nights_listings)"
      ],
      "metadata": {
        "colab": {
          "base_uri": "https://localhost:8080/"
        },
        "id": "SP4koWKGMdfG",
        "outputId": "c32cc28f-c394-4377-c3d9-88c51853a378"
      },
      "execution_count": 23,
      "outputs": [
        {
          "output_type": "execute_result",
          "data": {
            "text/plain": [
              "346"
            ]
          },
          "metadata": {},
          "execution_count": 23
        }
      ]
    },
    {
      "cell_type": "code",
      "source": [
        "calendar.to_csv('/content/drive/MyDrive/Airbnb/Airbnb_cleaned_csvs/calendar_cleaned.csv', index=False)"
      ],
      "metadata": {
        "id": "AgmCQzz5-HKn"
      },
      "execution_count": 24,
      "outputs": []
    },
    {
      "cell_type": "code",
      "source": [],
      "metadata": {
        "id": "sYWesQ_vYIqv"
      },
      "execution_count": null,
      "outputs": []
    }
  ]
}